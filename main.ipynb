{
 "cells": [
  {
   "cell_type": "code",
   "execution_count": 1,
   "outputs": [],
   "source": [
    "#Internet Movie Database\n",
    "from pyspark.sql import SparkSession\n",
    "spark = (SparkSession.builder.appName(\"IMDB-project\").config(\"spark.some.config.option\", \"some-value\").getOrCreate())\n",
    "from pyspark.sql import StructType, StructField, StringType, IntegerType, FloatType, Window, Row, col, explode, split, desc, sum, row_number, when"
   ],
   "metadata": {
    "collapsed": false,
    "ExecuteTime": {
     "end_time": "2023-11-28T05:16:11.656734900Z",
     "start_time": "2023-11-28T05:15:50.250649800Z"
    }
   },
   "id": "1e5efc5b0ac6a5f2"
  },
  {
   "cell_type": "markdown",
   "source": [],
   "metadata": {
    "collapsed": false
   },
   "id": "40dac99bc3aa21a2"
  },
  {
   "cell_type": "code",
   "execution_count": 2,
   "id": "initial_id",
   "metadata": {
    "collapsed": true,
    "ExecuteTime": {
     "end_time": "2023-11-28T05:16:20.686954600Z",
     "start_time": "2023-11-28T05:16:11.656734900Z"
    }
   },
   "outputs": [],
   "source": [
    "# Зчитати файли\n",
    "name_basics = spark.read.csv('./data/name.basics.tsv.gz', header= True, sep='\\t')\n",
    "title_ratings = spark.read.csv('./data/title.ratings.tsv.gz',  header= True, sep='\\t')\n",
    "title_principals = spark.read.csv('./data/title.principals.tsv.gz', header= True, sep='\\t')\n",
    "title_episode = spark.read.csv('./data/title.episode.tsv.gz', header= True, sep='\\t')\n",
    "title_crew = spark.read.csv('./data/title.crew.tsv.gz', header= True, sep='\\t')\n",
    "title_basics = spark.read.csv('./data/title.basics.tsv.gz', header= True, sep='\\t')\n",
    "title_akas = spark.read.csv('./data/title.akas.tsv.gz', header= True, sep='\\t')"
   ]
  },
  {
   "cell_type": "markdown",
   "source": [],
   "metadata": {
    "collapsed": false
   },
   "id": "6f6a1f1b1e63be7c"
  },
  {
   "cell_type": "code",
   "execution_count": 3,
   "outputs": [
    {
     "name": "stdout",
     "output_type": "stream",
     "text": [
      "name_basics:\n",
      "+---------+---------------+---------+---------+--------------------+--------------------+\n",
      "|   nconst|    primaryName|birthYear|deathYear|   primaryProfession|      knownForTitles|\n",
      "+---------+---------------+---------+---------+--------------------+--------------------+\n",
      "|nm0000001|   Fred Astaire|     1899|     1987|soundtrack,actor,...|tt0072308,tt00319...|\n",
      "|nm0000002|  Lauren Bacall|     1924|     2014|  actress,soundtrack|tt0038355,tt00373...|\n",
      "|nm0000003|Brigitte Bardot|     1934|       \\N|actress,soundtrac...|tt0057345,tt00544...|\n",
      "|nm0000004|   John Belushi|     1949|     1982|actor,soundtrack,...|tt0078723,tt00779...|\n",
      "|nm0000005| Ingmar Bergman|     1918|     2007|writer,director,a...|tt0069467,tt00839...|\n",
      "+---------+---------------+---------+---------+--------------------+--------------------+\n",
      "only showing top 5 rows\n",
      "\n",
      "None\n",
      "\n",
      "title_ratings:\n",
      "+---------+-------------+--------+\n",
      "|   tconst|averageRating|numVotes|\n",
      "+---------+-------------+--------+\n",
      "|tt0000001|          5.7|    2007|\n",
      "|tt0000002|          5.8|     270|\n",
      "|tt0000003|          6.5|    1916|\n",
      "|tt0000004|          5.5|     178|\n",
      "|tt0000005|          6.2|    2696|\n",
      "+---------+-------------+--------+\n",
      "only showing top 5 rows\n",
      "\n",
      "None\n",
      "\n",
      "title_principals:\n",
      "+---------+--------+---------+---------------+--------------------+----------+\n",
      "|   tconst|ordering|   nconst|       category|                 job|characters|\n",
      "+---------+--------+---------+---------------+--------------------+----------+\n",
      "|tt0000001|       1|nm1588970|           self|                  \\N|  [\"Self\"]|\n",
      "|tt0000001|       2|nm0005690|       director|                  \\N|        \\N|\n",
      "|tt0000001|       3|nm0374658|cinematographer|director of photo...|        \\N|\n",
      "|tt0000002|       1|nm0721526|       director|                  \\N|        \\N|\n",
      "|tt0000002|       2|nm1335271|       composer|                  \\N|        \\N|\n",
      "+---------+--------+---------+---------------+--------------------+----------+\n",
      "only showing top 5 rows\n",
      "\n",
      "None\n",
      "\n",
      "title_episode:\n",
      "+---------+------------+------------+-------------+\n",
      "|   tconst|parentTconst|seasonNumber|episodeNumber|\n",
      "+---------+------------+------------+-------------+\n",
      "|tt0041951|   tt0041038|           1|            9|\n",
      "|tt0042816|   tt0989125|           1|           17|\n",
      "|tt0042889|   tt0989125|          \\N|           \\N|\n",
      "|tt0043426|   tt0040051|           3|           42|\n",
      "|tt0043631|   tt0989125|           2|           16|\n",
      "+---------+------------+------------+-------------+\n",
      "only showing top 5 rows\n",
      "\n",
      "None\n",
      "\n",
      "title_crew:\n",
      "+---------+---------+-------+\n",
      "|   tconst|directors|writers|\n",
      "+---------+---------+-------+\n",
      "|tt0000001|nm0005690|     \\N|\n",
      "|tt0000002|nm0721526|     \\N|\n",
      "|tt0000003|nm0721526|     \\N|\n",
      "|tt0000004|nm0721526|     \\N|\n",
      "|tt0000005|nm0005690|     \\N|\n",
      "+---------+---------+-------+\n",
      "only showing top 5 rows\n",
      "\n",
      "None\n",
      "\n",
      "title_basics:\n",
      "+---------+---------+--------------------+--------------------+-------+---------+-------+--------------+--------------------+\n",
      "|   tconst|titleType|        primaryTitle|       originalTitle|isAdult|startYear|endYear|runtimeMinutes|              genres|\n",
      "+---------+---------+--------------------+--------------------+-------+---------+-------+--------------+--------------------+\n",
      "|tt0000001|    short|          Carmencita|          Carmencita|      0|     1894|     \\N|             1|   Documentary,Short|\n",
      "|tt0000002|    short|Le clown et ses c...|Le clown et ses c...|      0|     1892|     \\N|             5|     Animation,Short|\n",
      "|tt0000003|    short|      Pauvre Pierrot|      Pauvre Pierrot|      0|     1892|     \\N|             4|Animation,Comedy,...|\n",
      "|tt0000004|    short|         Un bon bock|         Un bon bock|      0|     1892|     \\N|            12|     Animation,Short|\n",
      "|tt0000005|    short|    Blacksmith Scene|    Blacksmith Scene|      0|     1893|     \\N|             1|        Comedy,Short|\n",
      "+---------+---------+--------------------+--------------------+-------+---------+-------+--------------+--------------------+\n",
      "only showing top 5 rows\n",
      "\n",
      "None\n",
      "\n",
      "title_akas:\n",
      "+---------+--------+--------------------+------+--------+-----------+-------------+---------------+\n",
      "|  titleId|ordering|               title|region|language|      types|   attributes|isOriginalTitle|\n",
      "+---------+--------+--------------------+------+--------+-----------+-------------+---------------+\n",
      "|tt0000001|       1|          Карменсіта|    UA|      \\N|imdbDisplay|           \\N|              0|\n",
      "|tt0000001|       2|          Carmencita|    DE|      \\N|         \\N|literal title|              0|\n",
      "|tt0000001|       3|Carmencita - span...|    HU|      \\N|imdbDisplay|           \\N|              0|\n",
      "|tt0000001|       4|          Καρμενσίτα|    GR|      \\N|imdbDisplay|           \\N|              0|\n",
      "|tt0000001|       5|          Карменсита|    RU|      \\N|imdbDisplay|           \\N|              0|\n",
      "+---------+--------+--------------------+------+--------+-----------+-------------+---------------+\n",
      "only showing top 5 rows\n",
      "\n",
      "None\n"
     ]
    }
   ],
   "source": [
    "# Вивести перші 5 рядків з кожного файлу\n",
    "print(\"name_basics:\")\n",
    "print(name_basics.show(5))\n",
    "\n",
    "print(\"\\ntitle_ratings:\")\n",
    "print(title_ratings.show(5))\n",
    "\n",
    "print(\"\\ntitle_principals:\")\n",
    "print(title_principals.show(5))\n",
    "\n",
    "print(\"\\ntitle_episode:\")\n",
    "print(title_episode.show(5))\n",
    "\n",
    "print(\"\\ntitle_crew:\")\n",
    "print(title_crew.show(5))\n",
    "\n",
    "print(\"\\ntitle_basics:\")\n",
    "print(title_basics.show(5))\n",
    "\n",
    "print(\"\\ntitle_akas:\")\n",
    "print(title_akas.show(5))"
   ],
   "metadata": {
    "collapsed": false,
    "ExecuteTime": {
     "end_time": "2023-11-28T05:16:21.964546500Z",
     "start_time": "2023-11-28T05:16:20.667789800Z"
    }
   },
   "id": "b9b2bd59f4ed90e3"
  },
  {
   "cell_type": "markdown",
   "source": [],
   "metadata": {
    "collapsed": false
   },
   "id": "f7120787ed4ccb9d"
  },
  {
   "cell_type": "markdown",
   "source": [
    "Create appropriate schemas for datasets and corresponding DataFrames by reading data from the PC."
   ],
   "metadata": {
    "collapsed": false
   },
   "id": "98de1c597e21c110"
  },
  {
   "cell_type": "code",
   "execution_count": 4,
   "outputs": [
    {
     "name": "stdout",
     "output_type": "stream",
     "text": [
      "+---------+---------------+---------+---------+--------------------+\n",
      "|   nconst|    primaryName|birthYear|deathYear|      knownForTitles|\n",
      "+---------+---------------+---------+---------+--------------------+\n",
      "|nm0000001|   Fred Astaire|     1899|     1987|soundtrack,actor,...|\n",
      "|nm0000002|  Lauren Bacall|     1924|     2014|  actress,soundtrack|\n",
      "|nm0000003|Brigitte Bardot|     1934|       \\N|actress,soundtrac...|\n",
      "|nm0000004|   John Belushi|     1949|     1982|actor,soundtrack,...|\n",
      "|nm0000005| Ingmar Bergman|     1918|     2007|writer,director,a...|\n",
      "|nm0000006| Ingrid Bergman|     1915|     1982|actress,soundtrac...|\n",
      "|nm0000007|Humphrey Bogart|     1899|     1957|actor,soundtrack,...|\n",
      "|nm0000008|  Marlon Brando|     1924|     2004|actor,soundtrack,...|\n",
      "|nm0000009| Richard Burton|     1925|     1984|actor,soundtrack,...|\n",
      "|nm0000010|   James Cagney|     1899|     1986|actor,soundtrack,...|\n",
      "+---------+---------------+---------+---------+--------------------+\n"
     ]
    }
   ],
   "source": [
    "# Таблиця Name_Basics: Структура і створення ДатаФрейму\n",
    "schema_name_basics = StructType([\n",
    "    StructField(\"nconst\", StringType(), True),\n",
    "    StructField(\"primaryName\", StringType(), True),\n",
    "    StructField(\"birthYear\", StringType(), True),\n",
    "    StructField(\"deathYear\", StringType(), True),\n",
    "###    StructField(\"primaryProfession\", StringType(), True),\n",
    "    StructField(\"knownForTitles\", StringType(), True)\n",
    "])\n",
    "name_basics_df = spark.read.csv(\"./data/name_basics.tsv\", header=True, schema=schema_name_basics, sep='\\t')\n",
    "name_basics_df.show(10)"
   ],
   "metadata": {
    "collapsed": false,
    "ExecuteTime": {
     "end_time": "2023-11-28T05:16:22.354063300Z",
     "start_time": "2023-11-28T05:16:21.964546500Z"
    }
   },
   "id": "31edb81de387fc25"
  },
  {
   "cell_type": "markdown",
   "source": [],
   "metadata": {
    "collapsed": false
   },
   "id": "646bdd27972050b0"
  },
  {
   "cell_type": "code",
   "execution_count": 5,
   "outputs": [
    {
     "name": "stdout",
     "output_type": "stream",
     "text": [
      "+---------+-------------+--------+\n",
      "|   tconst|averageRating|numVotes|\n",
      "+---------+-------------+--------+\n",
      "|tt0000001|          5.7|    2007|\n",
      "|tt0000002|          5.8|     270|\n",
      "|tt0000003|          6.5|    1916|\n",
      "|tt0000004|          5.5|     178|\n",
      "|tt0000005|          6.2|    2696|\n",
      "|tt0000006|          5.0|     183|\n",
      "|tt0000007|          5.4|     843|\n",
      "|tt0000008|          5.4|    2154|\n",
      "|tt0000009|          5.3|     208|\n",
      "|tt0000010|          6.9|    7359|\n",
      "+---------+-------------+--------+\n"
     ]
    }
   ],
   "source": [
    "# Таблиця Title_Ratings: Структура і створення ДатаФрейму\n",
    "schema_title_ratings = StructType([\n",
    "    StructField(\"tconst\", StringType(), True),\n",
    "    StructField(\"averageRating\", FloatType(), True),\n",
    "    StructField(\"numVotes\", IntegerType(), True)\n",
    "])\n",
    "\n",
    "# Asuming you have a DataFrame named df_title_ratings\n",
    "title_ratings_df = spark.read.csv(\"./data/title_ratings.tsv\", sep=\"\\t\", header=True, schema=schema_title_ratings)\n",
    "title_ratings_df.show(10)"
   ],
   "metadata": {
    "collapsed": false,
    "ExecuteTime": {
     "end_time": "2023-11-28T05:16:22.719917Z",
     "start_time": "2023-11-28T05:16:22.354063300Z"
    }
   },
   "id": "bec707ea3342d4ce"
  },
  {
   "cell_type": "markdown",
   "source": [],
   "metadata": {
    "collapsed": false
   },
   "id": "309f3907467db2f3"
  },
  {
   "cell_type": "code",
   "execution_count": 6,
   "outputs": [
    {
     "name": "stdout",
     "output_type": "stream",
     "text": [
      "+---------+--------+---------+---------------+\n",
      "|   tconst|ordering|   nconst|       category|\n",
      "+---------+--------+---------+---------------+\n",
      "|tt0000001|       1|nm1588970|           self|\n",
      "|tt0000001|       2|nm0005690|       director|\n",
      "|tt0000001|       3|nm0374658|cinematographer|\n",
      "|tt0000002|       1|nm0721526|       director|\n",
      "|tt0000002|       2|nm1335271|       composer|\n",
      "|tt0000003|       1|nm0721526|       director|\n",
      "|tt0000003|       2|nm1770680|       producer|\n",
      "|tt0000003|       3|nm1335271|       composer|\n",
      "|tt0000003|       4|nm5442200|         editor|\n",
      "|tt0000004|       1|nm0721526|       director|\n",
      "+---------+--------+---------+---------------+\n"
     ]
    }
   ],
   "source": [
    "# Таблиця Title_Principals: Структура і створення ДатаФрейму\n",
    "schema_title_principals = StructType([\n",
    "    StructField(\"tconst\", StringType(), True),\n",
    "    StructField(\"ordering\", IntegerType(), True),\n",
    "    StructField(\"nconst\", StringType(), True),\n",
    "    StructField(\"category\", StringType(), True),\n",
    "###    StructField(\"job\", StringType(), True),\n",
    "###    StructField(\"characters\", StringType(), True)\n",
    "])\n",
    "\n",
    "# Assuming you have a DataFrame named df_title_principals\n",
    "title_principals_df = spark.read.csv(\"./data/title_principals.tsv\", sep=\"\\t\", header=True, schema=schema_title_principals)\n",
    "title_principals_df.show(10)"
   ],
   "metadata": {
    "collapsed": false,
    "ExecuteTime": {
     "end_time": "2023-11-28T05:16:22.823834700Z",
     "start_time": "2023-11-28T05:16:22.507274800Z"
    }
   },
   "id": "fd74780cc9ac8e50"
  },
  {
   "cell_type": "markdown",
   "source": [],
   "metadata": {
    "collapsed": false
   },
   "id": "db4e3a06f65b1e4e"
  },
  {
   "cell_type": "code",
   "execution_count": 7,
   "outputs": [],
   "source": [
    "# Таблиця Title_Episode: Структура і створення ДатаФрейму\n",
    "###schema_title_episode = StructType([\n",
    "###    StructField(\"tconst\", StringType(), True),\n",
    "###    StructField(\"parentTconst\", StringType(), True),\n",
    "###    StructField(\"seasonNumber\", StringType(), True),\n",
    "###    StructField(\"episodeNumber\", StringType(), True)\n",
    "###])\n",
    "\n",
    "# Assuming you have a DataFrame named df_title_episode\n",
    "###title_episode_df = spark.read.csv(\"./data/title_episode.tsv\", sep=\"\\t\", header=True, schema=schema_title_episode)\n",
    "###title_episode_df.show(10)"
   ],
   "metadata": {
    "collapsed": false,
    "ExecuteTime": {
     "end_time": "2023-11-28T05:16:22.889630400Z",
     "start_time": "2023-11-28T05:16:22.707872900Z"
    }
   },
   "id": "edddc05893a2a69b"
  },
  {
   "cell_type": "markdown",
   "source": [],
   "metadata": {
    "collapsed": false
   },
   "id": "1ae8d06fbc06d714"
  },
  {
   "cell_type": "code",
   "execution_count": 8,
   "outputs": [
    {
     "name": "stdout",
     "output_type": "stream",
     "text": [
      "+---------+-------------------+\n",
      "|   tconst|          directors|\n",
      "+---------+-------------------+\n",
      "|tt0000001|          nm0005690|\n",
      "|tt0000002|          nm0721526|\n",
      "|tt0000003|          nm0721526|\n",
      "|tt0000004|          nm0721526|\n",
      "|tt0000005|          nm0005690|\n",
      "|tt0000006|          nm0005690|\n",
      "|tt0000007|nm0005690,nm0374658|\n",
      "|tt0000008|          nm0005690|\n",
      "|tt0000009|          nm0085156|\n",
      "|tt0000010|          nm0525910|\n",
      "+---------+-------------------+\n"
     ]
    }
   ],
   "source": [
    "#Таблиця Title_Crew: Структура і створення ДатаФрейму\n",
    "schema_title_crew = StructType([\n",
    "    StructField(\"tconst\", StringType(), True),\n",
    "    StructField(\"directors\", StringType(), True),\n",
    "###    StructField(\"writers\", StringType(), True)\n",
    "])\n",
    "\n",
    "# Assuming you have a DataFrame named df_title_crew\n",
    "title_crew_df = spark.read.csv(\"./data/title_crew.tsv\", sep=\"\\t\", header=True, schema=schema_title_crew)\n",
    "title_crew_df.show(10)"
   ],
   "metadata": {
    "collapsed": false,
    "ExecuteTime": {
     "end_time": "2023-11-28T05:16:23.257128500Z",
     "start_time": "2023-11-28T05:16:22.724961600Z"
    }
   },
   "id": "c25782df205b96ce"
  },
  {
   "cell_type": "markdown",
   "source": [],
   "metadata": {
    "collapsed": false
   },
   "id": "7794b0af80ca67ef"
  },
  {
   "cell_type": "code",
   "execution_count": 9,
   "outputs": [
    {
     "name": "stdout",
     "output_type": "stream",
     "text": [
      "+---------+---------+--------------------+--------------------+-------+---------+-------+--------------+--------------------+\n",
      "|   tconst|titleType|        primaryTitle|       originalTitle|isAdult|startYear|endYear|runtimeMinutes|              genres|\n",
      "+---------+---------+--------------------+--------------------+-------+---------+-------+--------------+--------------------+\n",
      "|tt0000001|    short|          Carmencita|          Carmencita|      0|     1894|     \\N|             1|   Documentary,Short|\n",
      "|tt0000002|    short|Le clown et ses c...|Le clown et ses c...|      0|     1892|     \\N|             5|     Animation,Short|\n",
      "|tt0000003|    short|      Pauvre Pierrot|      Pauvre Pierrot|      0|     1892|     \\N|             4|Animation,Comedy,...|\n",
      "|tt0000004|    short|         Un bon bock|         Un bon bock|      0|     1892|     \\N|            12|     Animation,Short|\n",
      "|tt0000005|    short|    Blacksmith Scene|    Blacksmith Scene|      0|     1893|     \\N|             1|        Comedy,Short|\n",
      "|tt0000006|    short|   Chinese Opium Den|   Chinese Opium Den|      0|     1894|     \\N|             1|               Short|\n",
      "|tt0000007|    short|Corbett and Court...|Corbett and Court...|      0|     1894|     \\N|             1|         Short,Sport|\n",
      "|tt0000008|    short|Edison Kinetoscop...|Edison Kinetoscop...|      0|     1894|     \\N|             1|   Documentary,Short|\n",
      "|tt0000009|    movie|          Miss Jerry|          Miss Jerry|      0|     1894|     \\N|            45|             Romance|\n",
      "|tt0000010|    short| Leaving the Factory|La sortie de l'us...|      0|     1895|     \\N|             1|   Documentary,Short|\n",
      "+---------+---------+--------------------+--------------------+-------+---------+-------+--------------+--------------------+\n"
     ]
    }
   ],
   "source": [
    "#Таблиця Title_Basics: Структура і створення ДатаФрейму\n",
    "schema_title_basics = StructType([\n",
    "    StructField(\"tconst\", StringType(), True),\n",
    "    StructField(\"titleType\", StringType(), True),\n",
    "    StructField(\"primaryTitle\", StringType(), True),\n",
    "    StructField(\"originalTitle\", StringType(), True),\n",
    "    StructField(\"isAdult\", IntegerType(), True),\n",
    "    StructField(\"startYear\", IntegerType(), True),\n",
    "    StructField(\"endYear\", StringType(), True),\n",
    "    StructField(\"runtimeMinutes\", IntegerType(), True),\n",
    "    StructField(\"genres\", StringType(), True)\n",
    "])\n",
    "\n",
    "# Assuming you have a DataFrame named df_title_basics\n",
    "title_basics_df = spark.read.csv(\"./data/title_basics.tsv\", sep=\"\\t\", header=True, schema=schema_title_basics)\n",
    "title_basics_df.show(10)"
   ],
   "metadata": {
    "collapsed": false,
    "ExecuteTime": {
     "end_time": "2023-11-28T05:16:23.424169900Z",
     "start_time": "2023-11-28T05:16:22.928912500Z"
    }
   },
   "id": "6057f77686cea019"
  },
  {
   "cell_type": "markdown",
   "source": [],
   "metadata": {
    "collapsed": false
   },
   "id": "ddbd7ea2f8432e5e"
  },
  {
   "cell_type": "code",
   "execution_count": 10,
   "outputs": [
    {
     "name": "stdout",
     "output_type": "stream",
     "text": [
      "+---------+-----+--------------------+-----+\n",
      "|  titleId|title|              region|types|\n",
      "+---------+-----+--------------------+-----+\n",
      "|tt0000001|    1|          Карменсіта|   UA|\n",
      "|tt0000001|    2|          Carmencita|   DE|\n",
      "|tt0000001|    3|Carmencita - span...|   HU|\n",
      "|tt0000001|    4|          Καρμενσίτα|   GR|\n",
      "|tt0000001|    5|          Карменсита|   RU|\n",
      "|tt0000001|    6|          Carmencita|   US|\n",
      "|tt0000001|    7|          Carmencita|   \\N|\n",
      "|tt0000001|    8|      カルメンチータ|   JP|\n",
      "|tt0000002|    1|Le clown et ses c...|   \\N|\n",
      "|tt0000002|    2|Le clown et ses c...|   FR|\n",
      "+---------+-----+--------------------+-----+\n"
     ]
    }
   ],
   "source": [
    "#Таблиця: Структура і створення ДатаФрейму\n",
    "schema_title_akas = StructType([\n",
    "    StructField(\"titleId\", StringType(), True),\n",
    "###    StructField(\"ordering\", IntegerType(), True),\n",
    "    StructField(\"title\", StringType(), True),\n",
    "    StructField(\"region\", StringType(), True),\n",
    "###    StructField(\"language\", StringType(), True),\n",
    "    StructField(\"types\", StringType(), True),\n",
    "###    StructField(\"attributes\", StringType(), True),\n",
    "###    StructField(\"isOriginalTitle\", IntegerType(), True)\n",
    "])\n",
    "\n",
    "# Assuming you have a DataFrame named df_title_akas\n",
    "title_akas_df = spark.read.csv(\"./data/title_akas.tsv\", sep=\"\\t\", header=True, schema=schema_title_akas)\n",
    "title_akas_df.show(10)"
   ],
   "metadata": {
    "collapsed": false,
    "ExecuteTime": {
     "end_time": "2023-11-28T05:16:23.787952200Z",
     "start_time": "2023-11-28T05:16:23.161367900Z"
    }
   },
   "id": "c1f028e117bc66f2"
  },
  {
   "cell_type": "markdown",
   "source": [],
   "metadata": {
    "collapsed": false
   },
   "id": "e198bff5f3093a0b"
  },
  {
   "cell_type": "markdown",
   "source": [
    "Get the general information about dataset. (Such as Schema, Columns, number of columns and rows etc.)"
   ],
   "metadata": {
    "collapsed": false
   },
   "id": "45f1544d3fbe9a43"
  },
  {
   "cell_type": "code",
   "execution_count": 11,
   "outputs": [
    {
     "name": "stdout",
     "output_type": "stream",
     "text": [
      "Schema for Name_Basics:\n",
      "root\n",
      " |-- nconst: string (nullable = true)\n",
      " |-- primaryName: string (nullable = true)\n",
      " |-- birthYear: string (nullable = true)\n",
      " |-- deathYear: string (nullable = true)\n",
      " |-- knownForTitles: string (nullable = true)\n",
      "\n",
      "\n",
      "Columns:\n",
      "['nconst', 'primaryName', 'birthYear', 'deathYear', 'knownForTitles']\n",
      "\n",
      "Number of columns: 5\n",
      "\n",
      "Number of rows: 13040654\n",
      "\n",
      "Numeric columns statistics:\n",
      "+-------+---------+--------------------+------------------+------------------+--------------------+\n",
      "|summary|   nconst|         primaryName|         birthYear|         deathYear|      knownForTitles|\n",
      "+-------+---------+--------------------+------------------+------------------+--------------------+\n",
      "|  count| 13040654|            13040654|          13040654|          13040654|            10442839|\n",
      "|   mean|     NULL|                 NaN|1952.9593527326338| 1992.678400769587|                NULL|\n",
      "| stddev|     NULL|                 NaN| 34.93445420136517|34.538771630283385|                NULL|\n",
      "|    min|nm0000001|!'aru Ikhuisi Pie...|              0001|              0017|               actor|\n",
      "|    max|nm9993719|  ﻿Thesia Kouloungou|                \\N|                \\N|writer,visual_eff...|\n",
      "+-------+---------+--------------------+------------------+------------------+--------------------+\n"
     ]
    }
   ],
   "source": [
    "#Name_Basics:\n",
    "print(\"Schema for Name_Basics:\")\n",
    "name_basics_df.printSchema()\n",
    "\n",
    "print(\"\\nColumns:\")\n",
    "print(name_basics_df.columns)\n",
    "\n",
    "num_columns = len(name_basics_df.columns)\n",
    "print(f\"\\nNumber of columns: {num_columns}\")\n",
    "\n",
    "num_rows = name_basics_df.count()\n",
    "print(f\"\\nNumber of rows: {num_rows}\")\n",
    "\n",
    "print(\"\\nNumeric columns statistics:\")\n",
    "name_basics_df.describe().show()"
   ],
   "metadata": {
    "collapsed": false,
    "ExecuteTime": {
     "end_time": "2023-11-28T05:17:14.652501100Z",
     "start_time": "2023-11-28T05:16:23.299934400Z"
    }
   },
   "id": "8c49a556cb0c8514"
  },
  {
   "cell_type": "markdown",
   "source": [],
   "metadata": {
    "collapsed": false
   },
   "id": "c910b3559a1198c5"
  },
  {
   "cell_type": "code",
   "execution_count": 12,
   "outputs": [
    {
     "name": "stdout",
     "output_type": "stream",
     "text": [
      "Schema for Title_Ratings:\n",
      "root\n",
      " |-- tconst: string (nullable = true)\n",
      " |-- averageRating: float (nullable = true)\n",
      " |-- numVotes: integer (nullable = true)\n",
      "\n",
      "\n",
      "Columns:\n",
      "['tconst', 'averageRating', 'numVotes']\n",
      "\n",
      "Number of columns: 3\n",
      "\n",
      "Number of rows: 1373171\n",
      "\n",
      "Numeric columns statistics:\n",
      "+-------+---------+------------------+------------------+\n",
      "|summary|   tconst|     averageRating|          numVotes|\n",
      "+-------+---------+------------------+------------------+\n",
      "|  count|  1373171|           1373171|           1373171|\n",
      "|   mean|     NULL|  6.95877134629873|1038.0719903056502|\n",
      "| stddev|     NULL|1.3831073386952943|17592.476561517775|\n",
      "|    min|tt0000001|               1.0|                 5|\n",
      "|    max|tt9916880|              10.0|           2822434|\n",
      "+-------+---------+------------------+------------------+\n"
     ]
    }
   ],
   "source": [
    "# Title_Ratings:\n",
    "print(\"Schema for Title_Ratings:\")\n",
    "title_ratings_df.printSchema()\n",
    "\n",
    "print(\"\\nColumns:\")\n",
    "print(title_ratings_df.columns)\n",
    "\n",
    "num_columns = len(title_ratings_df.columns)\n",
    "print(f\"\\nNumber of columns: {num_columns}\")\n",
    "\n",
    "num_rows = title_ratings_df.count()\n",
    "print(f\"\\nNumber of rows: {num_rows}\")\n",
    "\n",
    "print(\"\\nNumeric columns statistics:\")\n",
    "title_ratings_df.describe().show()"
   ],
   "metadata": {
    "collapsed": false,
    "ExecuteTime": {
     "end_time": "2023-11-28T05:17:17.053699200Z",
     "start_time": "2023-11-28T05:17:14.649515700Z"
    }
   },
   "id": "30ae8acf14f2d486"
  },
  {
   "cell_type": "markdown",
   "source": [],
   "metadata": {
    "collapsed": false
   },
   "id": "776bfe5239ab082e"
  },
  {
   "cell_type": "code",
   "execution_count": 13,
   "outputs": [
    {
     "name": "stdout",
     "output_type": "stream",
     "text": [
      "Schema for Title_Principals:\n",
      "root\n",
      " |-- tconst: string (nullable = true)\n",
      " |-- ordering: integer (nullable = true)\n",
      " |-- nconst: string (nullable = true)\n",
      " |-- category: string (nullable = true)\n",
      "\n",
      "\n",
      "Columns:\n",
      "['tconst', 'ordering', 'nconst', 'category']\n",
      "\n",
      "Number of columns: 4\n",
      "\n",
      "Number of rows: 59261891\n",
      "\n",
      "Numeric columns statistics:\n",
      "+-------+---------+-----------------+---------+--------+\n",
      "|summary|   tconst|         ordering|   nconst|category|\n",
      "+-------+---------+-----------------+---------+--------+\n",
      "|  count| 59261891|         59261891| 59261891|59261891|\n",
      "|   mean|     NULL|4.613541845973157|     NULL|    NULL|\n",
      "| stddev|     NULL|2.787231004650719|     NULL|    NULL|\n",
      "|    min|tt0000001|                1|nm0000001|   actor|\n",
      "|    max|tt9916880|               10|nm9993718|  writer|\n",
      "+-------+---------+-----------------+---------+--------+\n"
     ]
    }
   ],
   "source": [
    "# Title_Principals:\n",
    "print(\"Schema for Title_Principals:\")\n",
    "title_principals_df.printSchema()\n",
    "\n",
    "print(\"\\nColumns:\")\n",
    "print(title_principals_df.columns)\n",
    "\n",
    "num_columns = len(title_principals_df.columns)\n",
    "print(f\"\\nNumber of columns: {num_columns}\")\n",
    "\n",
    "num_rows = title_principals_df.count()\n",
    "print(f\"\\nNumber of rows: {num_rows}\")\n",
    "\n",
    "print(\"\\nNumeric columns statistics:\")\n",
    "title_principals_df.describe().show()"
   ],
   "metadata": {
    "collapsed": false,
    "ExecuteTime": {
     "end_time": "2023-11-28T05:20:11.362951Z",
     "start_time": "2023-11-28T05:17:17.035730700Z"
    }
   },
   "id": "19b09337b7e9f3fb"
  },
  {
   "cell_type": "markdown",
   "source": [],
   "metadata": {
    "collapsed": false
   },
   "id": "7966009cd01ecf77"
  },
  {
   "cell_type": "code",
   "execution_count": 14,
   "outputs": [],
   "source": [
    "# Title_Episode:\n",
    "###print(\"Schema for Title_Episode:\")\n",
    "###title_episode_df.printSchema()\n",
    "\n",
    "###print(\"\\nColumns:\")\n",
    "###print(title_episode_df.columns)\n",
    "\n",
    "###num_columns = len(title_episode_df.columns)\n",
    "###print(f\"\\nNumber of columns: {num_columns}\")\n",
    "\n",
    "###num_rows = title_episode_df.count()\n",
    "###print(f\"\\nNumber of rows: {num_rows}\")\n",
    "\n",
    "###print(\"\\nNumeric columns statistics:\")\n",
    "###title_episode_df.describe().show()"
   ],
   "metadata": {
    "collapsed": false,
    "ExecuteTime": {
     "end_time": "2023-11-28T05:20:11.427779300Z",
     "start_time": "2023-11-28T05:20:11.357929Z"
    }
   },
   "id": "439aa75b6e8c07b8"
  },
  {
   "cell_type": "markdown",
   "source": [],
   "metadata": {
    "collapsed": false
   },
   "id": "cbf9b867f910243d"
  },
  {
   "cell_type": "code",
   "execution_count": 15,
   "outputs": [
    {
     "name": "stdout",
     "output_type": "stream",
     "text": [
      "Schema for Title_Crew:\n",
      "root\n",
      " |-- tconst: string (nullable = true)\n",
      " |-- directors: string (nullable = true)\n",
      "\n",
      "\n",
      "Columns:\n",
      "['tconst', 'directors']\n",
      "\n",
      "Number of columns: 2\n",
      "\n",
      "Number of rows: 10343447\n",
      "\n",
      "Numeric columns statistics:\n",
      "+-------+---------+-------------------+\n",
      "|summary|   tconst|          directors|\n",
      "+-------+---------+-------------------+\n",
      "|  count| 10343447|           10343447|\n",
      "|   mean|     NULL|               NULL|\n",
      "| stddev|     NULL|               NULL|\n",
      "|    min|tt0000001|                 \\N|\n",
      "|    max|tt9916880|nm9993709,nm9993708|\n",
      "+-------+---------+-------------------+\n"
     ]
    }
   ],
   "source": [
    "#Title_Crew:\n",
    "print(\"Schema for Title_Crew:\")\n",
    "title_crew_df.printSchema()\n",
    "\n",
    "print(\"\\nColumns:\")\n",
    "print(title_crew_df.columns)\n",
    "\n",
    "num_columns = len(title_crew_df.columns)\n",
    "print(f\"\\nNumber of columns: {num_columns}\")\n",
    "\n",
    "num_rows = title_crew_df.count()\n",
    "print(f\"\\nNumber of rows: {num_rows}\")\n",
    "\n",
    "print(\"\\nNumeric columns statistics:\")\n",
    "title_crew_df.describe().show()"
   ],
   "metadata": {
    "collapsed": false,
    "ExecuteTime": {
     "end_time": "2023-11-28T05:20:36.308012700Z",
     "start_time": "2023-11-28T05:20:11.370501200Z"
    }
   },
   "id": "6e845137cc1ea29"
  },
  {
   "cell_type": "markdown",
   "source": [],
   "metadata": {
    "collapsed": false
   },
   "id": "c5684410e6d57087"
  },
  {
   "cell_type": "code",
   "execution_count": 16,
   "outputs": [
    {
     "name": "stdout",
     "output_type": "stream",
     "text": [
      "Schema for Title_Basics:\n",
      "root\n",
      " |-- tconst: string (nullable = true)\n",
      " |-- titleType: string (nullable = true)\n",
      " |-- primaryTitle: string (nullable = true)\n",
      " |-- originalTitle: string (nullable = true)\n",
      " |-- isAdult: integer (nullable = true)\n",
      " |-- startYear: integer (nullable = true)\n",
      " |-- endYear: string (nullable = true)\n",
      " |-- runtimeMinutes: integer (nullable = true)\n",
      " |-- genres: string (nullable = true)\n",
      "\n",
      "\n",
      "Columns:\n",
      "['tconst', 'titleType', 'primaryTitle', 'originalTitle', 'isAdult', 'startYear', 'endYear', 'runtimeMinutes', 'genres']\n",
      "\n",
      "Number of columns: 9\n",
      "\n",
      "Number of rows: 10345990\n",
      "\n",
      "Numeric columns statistics:\n",
      "+-------+---------+---------+--------------+-------------+-------------------+------------------+-----------------+-----------------+--------+\n",
      "|summary|   tconst|titleType|  primaryTitle|originalTitle|            isAdult|         startYear|          endYear|   runtimeMinutes|  genres|\n",
      "+-------+---------+---------+--------------+-------------+-------------------+------------------+-----------------+-----------------+--------+\n",
      "|  count| 10345990| 10345990|      10345990|     10345990|           10345989|           8960188|         10345990|          3113069|10345972|\n",
      "|   mean|     NULL|     NULL|           NaN|          NaN|0.03500216364042142|2005.4465443135791|2006.447562892399|43.41642572008523|    NULL|\n",
      "| stddev|     NULL|     NULL|           NaN|          NaN|  2.591115266871506| 20.13222856768448|16.39555708084025|74.12576246288482|    NULL|\n",
      "|    min|tt0000001|    movie|        !Next?|       !Next?|                  0|              1874|             1906|                0|  Action|\n",
      "|    max|tt9916880|videoGame|【Oshi No Ko】|þetta reddast|               2023|              2031|               \\N|            54321|      \\N|\n",
      "+-------+---------+---------+--------------+-------------+-------------------+------------------+-----------------+-----------------+--------+\n"
     ]
    }
   ],
   "source": [
    "#Title_Basics:\n",
    "print(\"Schema for Title_Basics:\")\n",
    "title_basics_df.printSchema()\n",
    "\n",
    "print(\"\\nColumns:\")\n",
    "print(title_basics_df.columns)\n",
    "\n",
    "num_columns = len(title_basics_df.columns)\n",
    "print(f\"\\nNumber of columns: {num_columns}\")\n",
    "\n",
    "num_rows = title_basics_df.count()\n",
    "print(f\"\\nNumber of rows: {num_rows}\")\n",
    "\n",
    "print(\"\\nNumeric columns statistics:\")\n",
    "title_basics_df.describe().show()"
   ],
   "metadata": {
    "collapsed": false,
    "ExecuteTime": {
     "end_time": "2023-11-28T05:21:17.213634700Z",
     "start_time": "2023-11-28T05:20:36.291905400Z"
    }
   },
   "id": "3ec512b694d8ac84"
  },
  {
   "cell_type": "markdown",
   "source": [],
   "metadata": {
    "collapsed": false
   },
   "id": "57c687b4b02920d4"
  },
  {
   "cell_type": "code",
   "execution_count": 17,
   "outputs": [
    {
     "name": "stdout",
     "output_type": "stream",
     "text": [
      "Schema for Title_Akas:\n",
      "root\n",
      " |-- titleId: string (nullable = true)\n",
      " |-- title: string (nullable = true)\n",
      " |-- region: string (nullable = true)\n",
      " |-- types: string (nullable = true)\n",
      "\n",
      "\n",
      "Columns:\n",
      "['titleId', 'title', 'region', 'types']\n",
      "\n",
      "Number of columns: 4\n",
      "\n",
      "Number of rows: 37949764\n",
      "\n",
      "Numeric columns statistics:\n",
      "+-------+---------+-----------------+--------+--------+\n",
      "|summary|  titleId|            title|  region|   types|\n",
      "+-------+---------+-----------------+--------+--------+\n",
      "|  count| 37949764|         37949764|37949764|37949761|\n",
      "|   mean|     NULL|4.168411692889579|     NaN|    NULL|\n",
      "| stddev|     NULL|3.996645990159475|     NaN|    NULL|\n",
      "|    min|tt0000001|                1|   !Huff|      AD|\n",
      "|    max|tt9916856|               99|🧠+🧘=❤️|      \\N|\n",
      "+-------+---------+-----------------+--------+--------+\n"
     ]
    }
   ],
   "source": [
    "#Title_Akas:\n",
    "print(\"Schema for Title_Akas:\")\n",
    "title_akas_df.printSchema()\n",
    "\n",
    "print(\"\\nColumns:\")\n",
    "print(title_akas_df.columns)\n",
    "\n",
    "num_columns = len(title_akas_df.columns)\n",
    "print(f\"\\nNumber of columns: {num_columns}\")\n",
    "\n",
    "num_rows = title_akas_df.count()\n",
    "print(f\"\\nNumber of rows: {num_rows}\")\n",
    "\n",
    "print(\"\\nNumeric columns statistics:\")\n",
    "title_akas_df.describe().show()"
   ],
   "metadata": {
    "collapsed": false,
    "ExecuteTime": {
     "end_time": "2023-11-28T05:23:38.041006Z",
     "start_time": "2023-11-28T05:21:17.188492800Z"
    }
   },
   "id": "b644718f35fa24de"
  },
  {
   "cell_type": "markdown",
   "source": [
    "\n"
   ],
   "metadata": {
    "collapsed": false
   },
   "id": "c516e7304cd3e306"
  },
  {
   "cell_type": "markdown",
   "source": [],
   "metadata": {
    "collapsed": false
   },
   "id": "be27d52b8f3f2ab4"
  },
  {
   "cell_type": "code",
   "execution_count": 18,
   "outputs": [],
   "source": [
    "# Бізнес питання: \n",
    "# 1 Який жанр фільмів є найпопулярніший (топ5)\n",
    "# 2 Вивести топ 20 фільмів за оцінкою (мінімальна кількість оцінок 50000)\n",
    "# 3 Які фільми найпопулярніші по кількості голосів (топ 20 ) та які їх оцінки?\n",
    "# 4 популярніші короткі фільми чи довгі (менш як 110 хв - короткі) (за остання 50 років )\n",
    "# 5 топ 10 фільмів кожного десятиліття, починаючи з 1970 року \n",
    "# 6 сума акторів котрі прожили більше 90 років та загальна сума акторів за весь час\n",
    "# 7 вивести фільми які по тривалості потрапляють в діапазон: 2 -3 год, та які мають оцінку не більше 9.0\n",
    "# 8 вивести фільми які по тривалості потрапляють в діапазон: 2 -3 год, та які мають суму голосів не менше 300000\n",
    "# 9 вивести кількість фільмів які були зняті в 1895 році, кількість фільмів які були зняті в 2010, та скільки було знято в 2021"
   ],
   "metadata": {
    "collapsed": false,
    "ExecuteTime": {
     "end_time": "2023-11-28T05:23:38.074275900Z",
     "start_time": "2023-11-28T05:23:38.030530100Z"
    }
   },
   "id": "63ec2ab3ed13c3c0"
  },
  {
   "cell_type": "markdown",
   "source": [],
   "metadata": {
    "collapsed": false
   },
   "id": "bd7a079cf78028fc"
  },
  {
   "cell_type": "code",
   "execution_count": 19,
   "outputs": [
    {
     "name": "stdout",
     "output_type": "stream",
     "text": [
      "+---------+-------+\n",
      "|   genres|  count|\n",
      "+---------+-------+\n",
      "|    Drama|2939557|\n",
      "|   Comedy|2062286|\n",
      "|Talk-Show|1267772|\n",
      "|    Short|1130666|\n",
      "|  Romance| 977975|\n",
      "+---------+-------+\n"
     ]
    }
   ],
   "source": [
    "# 1) Який жанр фільмів є найпопулярніший (топ5)\n",
    "\n",
    "# Ініціалізація SparkSession\n",
    "spark = SparkSession.builder.appName(\"TopGenres\").getOrCreate()\n",
    "\n",
    "# Розбивка жанрів, якщо декілька значень в колонці genres\n",
    "title_basics = title_basics.withColumn(\"genres\", explode(split(title_basics[\"genres\"], \",\")))\n",
    "\n",
    "# Підрахунок кількості фільмів для кожного жанру\n",
    "genre_counts = title_basics.groupBy(\"genres\").count()\n",
    "\n",
    "# Сортування за кількістю фільмів у зворотньому порядку\n",
    "sorted_genres = genre_counts.sort(desc(\"count\"))\n",
    "\n",
    "# Виведення топ 5 жанрів\n",
    "top_genres = sorted_genres.limit(5)\n",
    "top_genres.show()\n",
    "\n",
    "    # ПРИМІТКА:  тут показано кількість фільмів певного жанру не тільки по першому а й по другому і так далі пріоритету, тобто це може бути дія з елементами триллера чи драми, отже 1 фільм охоплює 3 категорії"
   ],
   "metadata": {
    "collapsed": false,
    "ExecuteTime": {
     "end_time": "2023-11-28T05:23:57.627702100Z",
     "start_time": "2023-11-28T05:23:38.048023500Z"
    }
   },
   "id": "6a6262b3030c010"
  },
  {
   "cell_type": "markdown",
   "source": [],
   "metadata": {
    "collapsed": false
   },
   "id": "f93be59f02a9e68e"
  },
  {
   "cell_type": "code",
   "execution_count": 27,
   "outputs": [
    {
     "name": "stdout",
     "output_type": "stream",
     "text": [
      "+------------------------+-------------+\n",
      "|originalTitle           |averageRating|\n",
      "+------------------------+-------------+\n",
      "|Ozymandias              |10.0         |\n",
      "|Plan and Execution      |9.9          |\n",
      "|Face Off                |9.9          |\n",
      "|Battle of the Bastards  |9.9          |\n",
      "|Felina                  |9.9          |\n",
      "|The Winds of Winter     |9.9          |\n",
      "|The Rains of Castamere  |9.9          |\n",
      "|Saul Gone               |9.8          |\n",
      "|Midnight Sun            |9.8          |\n",
      "|Chapter 16: The Rescue  |9.8          |\n",
      "|Memories of the Future  |9.8          |\n",
      "|Hardhome                |9.8          |\n",
      "|The War Hammer Titan    |9.8          |\n",
      "|Perfect Game            |9.8          |\n",
      "|Declaration of War      |9.8          |\n",
      "|To'hajiilee             |9.8          |\n",
      "|Hero                    |9.8          |\n",
      "|Vichnaya Pamyat         |9.8          |\n",
      "|That Day                |9.7          |\n",
      "|From You, 2000 Years Ago|9.7          |\n",
      "+------------------------+-------------+\n"
     ]
    }
   ],
   "source": [
    "# 2) Вивести топ 20 фільмів за оцінкою (мінімальна кількість оцінок 50000)\n",
    "\n",
    "# Ініціалізація SparkSession\n",
    "spark = SparkSession.builder.appName(\"TopRatedMovies\").getOrCreate()\n",
    "\n",
    "# Завантаження даних з таблиці title_ratings\n",
    "title_ratings = spark.read.option(\"delimiter\", \"\\t\").csv(\"./data/title_ratings.tsv\", header=True, inferSchema=True)\n",
    "\n",
    "# Завантаження даних з таблиці title_basics\n",
    "title_basics = spark.read.option(\"delimiter\", \"\\t\").csv(\"./data/title_basics.tsv\", header=True, inferSchema=True)\n",
    "\n",
    "# Об'єднання таблиць title_ratings та title_basics за ключем tconst\n",
    "merged_data = title_ratings.join(title_basics, title_ratings[\"tconst\"] == title_basics[\"tconst\"])\n",
    "\n",
    "# Фільтрація за кількістю голосів (numVotes) більше або рівно 50000\n",
    "filtered_data = merged_data.filter(merged_data[\"numVotes\"] >= 50000)\n",
    "\n",
    "# Сортування за оцінкою у зворотньому порядку за колонкою originalTitle\n",
    "top_rated_movies = filtered_data.sort(desc(\"averageRating\")).select(\"originalTitle\", \"averageRating\")\n",
    "\n",
    "# Обмеження результату до топ-20 фільмів\n",
    "top_rated_movies = top_rated_movies.limit(20)\n",
    "\n",
    "# Запис топ-фільмів у CSV файл\n",
    "#top_rated_movies.write.csv(\"D:/BDProject/data/top_rated_movies2\", header=True)\n",
    "\n",
    "# Виведення топ фільмів\n",
    "top_rated_movies.show(truncate=False)\n",
    "\n",
    "\n",
    "# вибрав спеціально мінімум 50т голосів, шоб не було такого що видало фільм з оцінкою 10 і вона там одна єдина, вивело досить непогані фільми в яких найвищий рейтинг в лізі 'малої розпізнаваності' "
   ],
   "metadata": {
    "collapsed": false,
    "ExecuteTime": {
     "end_time": "2023-11-28T08:15:29.255972800Z",
     "start_time": "2023-11-28T08:15:00.185614800Z"
    }
   },
   "id": "221d4911826f4734"
  },
  {
   "cell_type": "markdown",
   "source": [],
   "metadata": {
    "collapsed": false
   },
   "id": "ef2d4dca823a3986"
  },
  {
   "cell_type": "code",
   "execution_count": 21,
   "outputs": [
    {
     "name": "stdout",
     "output_type": "stream",
     "text": [
      "+-------------------------------------------------+--------+-------------+\n",
      "|originalTitle                                    |numVotes|averageRating|\n",
      "+-------------------------------------------------+--------+-------------+\n",
      "|The Shawshank Redemption                         |2822434 |9.3          |\n",
      "|The Dark Knight                                  |2803998 |9.0          |\n",
      "|Inception                                        |2488802 |8.8          |\n",
      "|Fight Club                                       |2257826 |8.8          |\n",
      "|Game of Thrones                                  |2224985 |9.2          |\n",
      "|Forrest Gump                                     |2198531 |8.8          |\n",
      "|Pulp Fiction                                     |2164328 |8.9          |\n",
      "|Breaking Bad                                     |2065145 |9.5          |\n",
      "|Interstellar                                     |2015591 |8.7          |\n",
      "|The Matrix                                       |2006463 |8.7          |\n",
      "|The Godfather                                    |1967260 |9.2          |\n",
      "|The Lord of the Rings: The Fellowship of the Ring|1959638 |8.8          |\n",
      "|The Lord of the Rings: The Return of the King    |1932709 |9.0          |\n",
      "|The Dark Knight Rises                            |1788772 |8.4          |\n",
      "|Se7en                                            |1751191 |8.6          |\n",
      "|The Lord of the Rings: The Two Towers            |1742747 |8.8          |\n",
      "|Django Unchained                                 |1650742 |8.5          |\n",
      "|Gladiator                                        |1577238 |8.5          |\n",
      "|Batman Begins                                    |1545479 |8.2          |\n",
      "|Inglourious Basterds                             |1540075 |8.4          |\n",
      "+-------------------------------------------------+--------+-------------+\n"
     ]
    }
   ],
   "source": [
    "# 3) Які фільми найпопулярніші по кількості голосів (топ 20 ) та які їх оцінки?\n",
    "\n",
    "# Ініціалізація SparkSession\n",
    "spark = SparkSession.builder.appName(\"TopRatedMovies\").getOrCreate()\n",
    "\n",
    "# Завантаження даних з таблиць title_ratings та title_basics\n",
    "title_ratings = spark.read.option(\"delimiter\", \"\\t\").csv(\"./data/title_ratings.tsv\", header=True, inferSchema=True)\n",
    "title_basics = spark.read.option(\"delimiter\", \"\\t\").csv(\"./data/title_basics.tsv\", header=True, inferSchema=True)\n",
    "\n",
    "# Об'єднання таблиць title_ratings та title_basics за ключем tconst\n",
    "merged_data = title_ratings.join(title_basics, title_ratings[\"tconst\"] == title_basics[\"tconst\"])\n",
    "\n",
    "# Сортування за кількістю голосів (numVotes) у зворотньому порядку\n",
    "most_rated_movies = merged_data.sort(desc(\"numVotes\")).select(\"originalTitle\", \"numVotes\", \"averageRating\")\n",
    "\n",
    "# Запис топ-20 найпопулярніших фільмів в CSV файл\n",
    "#most_rated_movies.limit(20).write.csv(\"D:/BDProject/data/top_rated_movies3\", header=True)\n",
    "most_rated_movies.show(truncate=False)\n",
    "\n",
    "# бачимо що у високо обговорюваних фільмах також високий рейтинг, але не такий великий як міг бути "
   ],
   "metadata": {
    "collapsed": false,
    "ExecuteTime": {
     "end_time": "2023-11-28T07:31:22.621469500Z",
     "start_time": "2023-11-28T07:30:50.857003100Z"
    }
   },
   "id": "f19bc103b0555996"
  },
  {
   "cell_type": "markdown",
   "source": [],
   "metadata": {
    "collapsed": false
   },
   "id": "d4be07d5d3fe4721"
  },
  {
   "cell_type": "code",
   "execution_count": 35,
   "outputs": [
    {
     "name": "stdout",
     "output_type": "stream",
     "text": [
      "Total votes under short films (runtime < 110 min): 723210164\n",
      "Total votes under long films (runtime >= 110 min): 599000327\n"
     ]
    }
   ],
   "source": [
    "# 4) Популярніші короткі фільми чи довгі (менше 110  хв - короткі) (за остання 50 років) (за кількістю голосів)\n",
    "\n",
    "# Ініціалізація SparkSession\n",
    "spark = SparkSession.builder.appName(\"FilmVotes\").getOrCreate()\n",
    "\n",
    "# Визначення поточного року\n",
    "current_year = 2023\n",
    "\n",
    "# Фільтрація за умовами (останні 50 років)\n",
    "recent_movies = title_basics.filter((title_basics[\"startYear\"] >= current_year - 50) & (title_basics[\"startYear\"] <= current_year))\n",
    "\n",
    "# Розділення на короткі та довгі фільми\n",
    "short_movies = recent_movies.filter(recent_movies[\"runtimeMinutes\"] < 110)\n",
    "long_movies = recent_movies.filter(recent_movies[\"runtimeMinutes\"] >= 110)\n",
    "\n",
    "# Загальна кількість голосів для коротких та довгих фільмів\n",
    "total_votes_short = (\n",
    "    short_movies.join(title_ratings, short_movies[\"tconst_basics\"] == title_ratings[\"tconst\"])\n",
    "    .agg(sum(\"numVotes\").alias(\"total_votes_short\"))\n",
    "    .first()\n",
    "    .total_votes_short\n",
    ")\n",
    "\n",
    "total_votes_long = (\n",
    "    long_movies.join(title_ratings, long_movies[\"tconst_basics\"] == title_ratings[\"tconst\"])\n",
    "    .agg(sum(\"numVotes\").alias(\"total_votes_long\"))\n",
    "    .first()\n",
    "    .total_votes_long\n",
    ")\n",
    "\n",
    "print(f\"Total votes under short films (runtime < 110 min): {total_votes_short}\")\n",
    "print(f\"Total votes under long films (runtime >= 110 min): {total_votes_long}\")\n",
    "\n",
    "# Запис результатів в CSV файл\n",
    "result_df_votes = spark.createDataFrame([(total_votes_short, total_votes_long)], [\"total_votes_short\", \"total_votes_long\"])\n",
    "#result_df_votes.write.csv(\"D:/BDProject/data/film_votes_results\", header=True)\n",
    "\n",
    "\n",
    "# бачимо що попри позибку в голосах за кородкі та довгі фільми, не можна сказати на певне що коротку фільми популярніші, так як логічно що на корродші фільми сумарно йде менше часу отже і більше голосів "
   ],
   "metadata": {
    "collapsed": false,
    "ExecuteTime": {
     "end_time": "2023-11-28T09:01:03.532621500Z",
     "start_time": "2023-11-28T09:00:46.112357600Z"
    }
   },
   "id": "ccb53b5c78d37c4b"
  },
  {
   "cell_type": "markdown",
   "source": [],
   "metadata": {
    "collapsed": false
   },
   "id": "1258e9533f771b7a"
  },
  {
   "cell_type": "code",
   "execution_count": 26,
   "outputs": [
    {
     "name": "stdout",
     "output_type": "stream",
     "text": [
      "+------+-------------------------------------------------+--------+\n",
      "|decade|primaryTitle                                     |numVotes|\n",
      "+------+-------------------------------------------------+--------+\n",
      "|1970  |The Godfather                                    |1967260 |\n",
      "|1970  |Star Wars: Episode IV - A New Hope               |1423085 |\n",
      "|1970  |The Godfather Part II                            |1335344 |\n",
      "|1970  |One Flew Over the Cuckoo's Nest                  |1050805 |\n",
      "|1970  |Alien                                            |928051  |\n",
      "|1970  |Taxi Driver                                      |895306  |\n",
      "|1970  |A Clockwork Orange                               |865639  |\n",
      "|1970  |Apocalypse Now                                   |696759  |\n",
      "|1970  |Jaws                                             |645700  |\n",
      "|1970  |Rocky                                            |615074  |\n",
      "|1980  |Star Wars: Episode V - The Empire Strikes Back   |1352012 |\n",
      "|1980  |Back to the Future                               |1274997 |\n",
      "|1980  |Star Wars: Episode VI - Return of the Jedi       |1100577 |\n",
      "|1980  |The Shining                                      |1082284 |\n",
      "|1980  |Raiders of the Lost Ark                          |1019123 |\n",
      "|1980  |Die Hard                                         |918561  |\n",
      "|1980  |The Terminator                                   |906452  |\n",
      "|1980  |Scarface                                         |893375  |\n",
      "|1980  |Blade Runner                                     |806341  |\n",
      "|1980  |Indiana Jones and the Last Crusade               |796567  |\n",
      "|1990  |The Shawshank Redemption                         |2822434 |\n",
      "|1990  |Fight Club                                       |2257826 |\n",
      "|1990  |Forrest Gump                                     |2198531 |\n",
      "|1990  |Pulp Fiction                                     |2164328 |\n",
      "|1990  |The Matrix                                       |2006463 |\n",
      "|1990  |Se7en                                            |1751191 |\n",
      "|1990  |The Silence of the Lambs                         |1509528 |\n",
      "|1990  |Saving Private Ryan                              |1462312 |\n",
      "|1990  |Schindler's List                                 |1418600 |\n",
      "|1990  |The Green Mile                                   |1372987 |\n",
      "|2000  |The Dark Knight                                  |2803998 |\n",
      "|2000  |Breaking Bad                                     |2065145 |\n",
      "|2000  |The Lord of the Rings: The Fellowship of the Ring|1959638 |\n",
      "|2000  |The Lord of the Rings: The Return of the King    |1932709 |\n",
      "|2000  |The Lord of the Rings: The Two Towers            |1742747 |\n",
      "|2000  |Gladiator                                        |1577238 |\n",
      "|2000  |Batman Begins                                    |1545479 |\n",
      "|2000  |Inglourious Basterds                             |1540075 |\n",
      "|2000  |The Prestige                                     |1408421 |\n",
      "|2000  |The Departed                                     |1391729 |\n",
      "|2010  |Inception                                        |2488802 |\n",
      "|2010  |Game of Thrones                                  |2224985 |\n",
      "|2010  |Interstellar                                     |2015591 |\n",
      "|2010  |The Dark Knight Rises                            |1788772 |\n",
      "|2010  |Django Unchained                                 |1650742 |\n",
      "|2010  |The Wolf of Wall Street                          |1529120 |\n",
      "|2010  |The Avengers                                     |1440296 |\n",
      "|2010  |Joker                                            |1422758 |\n",
      "|2010  |Shutter Island                                   |1411034 |\n",
      "|2010  |Stranger Things                                  |1292206 |\n",
      "|2020  |Spider-Man: No Way Home                          |844688  |\n",
      "|2020  |The Batman                                       |744398  |\n",
      "|2020  |Dune                                             |727876  |\n",
      "|2020  |Top Gun: Maverick                                |642276  |\n",
      "|2020  |Don't Look Up                                    |577403  |\n",
      "|2020  |The Kashmir Files                                |572077  |\n",
      "|2020  |Tenet                                            |568542  |\n",
      "|2020  |The Queen's Gambit                               |521198  |\n",
      "|2020  |Squid Game                                       |509758  |\n",
      "|2020  |Everything Everywhere All at Once                |489224  |\n",
      "+------+-------------------------------------------------+--------+\n"
     ]
    }
   ],
   "source": [
    "# 5) топ 10 фільмів кожного десятиліття, починаючи з 1970 року\n",
    "# Ініціалізація SparkSession\n",
    "spark = SparkSession.builder.appName(\"TopMoviesByDecade\").getOrCreate()\n",
    "\n",
    "# Додаємо псевдоніми до полів для уникнення конфлікту\n",
    "title_ratings = title_ratings.withColumnRenamed(\"tconst\", \"rating_tconst\")\n",
    "title_basics = title_basics.withColumnRenamed(\"tconst\", \"basics_tconst\")\n",
    "\n",
    "# Об'єднуємо таблиці за tconst\n",
    "joined_data = title_ratings.join(title_basics, title_ratings.rating_tconst == title_basics.basics_tconst)\n",
    "\n",
    "# Фільтрація за роками та розбиття на десятиліття\n",
    "filtered_data = joined_data.filter((col(\"startYear\") >= 1970) & (col(\"startYear\") < 2023))\n",
    "filtered_data = filtered_data.withColumn(\"decade\", ((col(\"startYear\") - 1970) / 10).cast(\"int\") * 10 + 1970)\n",
    "\n",
    "# Використовуємо вікно для нумерації фільмів у кожному десятилітті за кількістю голосів\n",
    "window_spec = Window.partitionBy(\"decade\").orderBy(desc(\"numVotes\"))\n",
    "ranked_data = filtered_data.withColumn(\"rank\", row_number().over(window_spec))\n",
    "\n",
    "# Вибірка топ-фільмів для кожного десятиліття\n",
    "top_movies_by_decade = ranked_data.filter(col(\"rank\") <= 10)\n",
    "\n",
    "# Виведення результатів\n",
    "top_movies_by_decade.select(\"decade\", \"primaryTitle\", \"numVotes\").orderBy(\"decade\", \"rank\").show(n=60, truncate=False)\n",
    "\n",
    "# Запис топ-фільмів у CSV файл\n",
    "#top_movies_by_decade.select(\"decade\", \"primaryTitle\", \"numVotes\").orderBy(\"decade\", \"rank\").write.csv(\"D:/BDProject/data/top_movies_by_decade5\", header=True)\n"
   ],
   "metadata": {
    "collapsed": false,
    "ExecuteTime": {
     "end_time": "2023-11-28T08:07:00.116446700Z",
     "start_time": "2023-11-28T08:06:32.222539100Z"
    }
   },
   "id": "d9141086ab85e912"
  },
  {
   "cell_type": "markdown",
   "source": [],
   "metadata": {
    "collapsed": false
   },
   "id": "8ae98265b9cda8ed"
  },
  {
   "cell_type": "markdown",
   "source": [],
   "metadata": {
    "collapsed": false
   },
   "id": "6745df89bd77f5a0"
  },
  {
   "cell_type": "code",
   "execution_count": 16,
   "outputs": [
    {
     "name": "stdout",
     "output_type": "stream",
     "text": [
      "+--------------------+----------------+\n",
      "|count_actors_over_90|count_all_actors|\n",
      "+--------------------+----------------+\n",
      "|19964               |13040654        |\n",
      "+--------------------+----------------+\n"
     ]
    }
   ],
   "source": [
    "# 6) сума акторів котрі прожили більше 90 років та загальна сума акторів за весь час\n",
    "\n",
    "# Ініціалізація SparkSession\n",
    "spark = SparkSession.builder.appName(\"ActorAge\").getOrCreate()\n",
    "\n",
    "# Завантаження даних з таблиці name_basics\n",
    "name_basics = spark.read.option(\"delimiter\", \"\\t\").csv(\"./data/name_basics.tsv\", header=True, inferSchema=True)\n",
    "\n",
    "# Розрахунок тривалості життя (різниця між роком смерті та роком народження)\n",
    "name_basics = name_basics.withColumn(\"age\", when(col(\"deathYear\") != \"\\\\N\", col(\"deathYear\").cast(\"int\") - col(\"birthYear\").cast(\"int\")).otherwise(None).cast(IntegerType()))\n",
    "\n",
    "# Розрахунок кількості акторів, які прожили більше 90 років\n",
    "actors_over_90 = name_basics.filter(col(\"age\") > 90)\n",
    "count_actors_over_90 = actors_over_90.count()\n",
    "\n",
    "# Розрахунок кількості всіх акторів\n",
    "count_all_actors = name_basics.count()\n",
    "\n",
    "# Запис результатів в CSV файл\n",
    "result_df = spark.createDataFrame([(count_actors_over_90, count_all_actors)], [\"count_actors_over_90\", \"count_all_actors\"])\n",
    "#result_df.write.csv(\"D:/BDProject/data/actor_age_results6\", header=True)\n",
    "\n",
    "result_df.show(truncate=False)\n",
    "# навіть попри те що вибірка акторів у нас 13 млн за всі роки, тільки 20000 акторів з них можна назвати довгожителями \n",
    " "
   ],
   "metadata": {
    "collapsed": false,
    "ExecuteTime": {
     "end_time": "2023-11-28T07:12:22.074053400Z",
     "start_time": "2023-11-28T07:12:03.809414600Z"
    }
   },
   "id": "272ac1b548dc631d"
  },
  {
   "cell_type": "markdown",
   "source": [],
   "metadata": {
    "collapsed": false
   },
   "id": "315592a549d6c9b8"
  },
  {
   "cell_type": "code",
   "execution_count": 32,
   "outputs": [
    {
     "name": "stdout",
     "output_type": "stream",
     "text": [
      "Кількість фільмів: 656\n",
      "Назви фільмів:\n",
      "+----------------------------------------------+\n",
      "|primaryTitle                                  |\n",
      "+----------------------------------------------+\n",
      "|Big Booty White Girls                         |\n",
      "|Der doppelte Moritz                           |\n",
      "|David Copperfield                             |\n",
      "|Eine große Familie                            |\n",
      "|Der Geisterbräu                               |\n",
      "|Ein Wintermärchen                             |\n",
      "|Pink Floyd: P. U. L. S. E. Live at Earls Court|\n",
      "|Mexikanische Revolution                       |\n",
      "|Persée                                        |\n",
      "|Edadugula Bandham                             |\n",
      "|Al Capone im deutschen Wald                   |\n",
      "|Desh Devi                                     |\n",
      "|Turandot                                      |\n",
      "|Das Herrschaftskind                           |\n",
      "|Veera Kesari                                  |\n",
      "|Pelléas et Mélisande                          |\n",
      "|New York City Opera: The Merry Widow          |\n",
      "|Sentenced: Buried Alive                       |\n",
      "|Beyond the Notes: Live                        |\n",
      "|Küß mich Kätchen                              |\n",
      "+----------------------------------------------+\n",
      "only showing top 20 rows\n"
     ]
    }
   ],
   "source": [
    "# 7) вивести фільми які по тривалості потрапляють в діапазон: 2 -3 год, та які мають оцінку не більше 9.0\n",
    "# Приєднання таблиць за допомогою tconst\n",
    "\n",
    "# Ініціалізація SparkSession\n",
    "spark = SparkSession.builder.appName(\"TopMovies\").getOrCreate()\n",
    "\n",
    "# Завантаження даних з таблиць title_ratings та title_basics\n",
    "title_ratings = spark.read.option(\"delimiter\", \"\\t\").csv(\"./data/title_ratings.tsv\", header=True, inferSchema=True)\n",
    "title_basics = spark.read.option(\"delimiter\", \"\\t\").csv(\"./data/title_basics.tsv\", header=True, inferSchema=True)\n",
    "\n",
    "# Перейменуємо стовпець у title_basics для уникнення конфлікту імен\n",
    "title_basics = title_basics.withColumnRenamed(\"tconst\", \"tconst_basics\")\n",
    "\n",
    "# Приєднання таблиць за допомогою tconst\n",
    "joined_df = title_ratings.join(title_basics, title_ratings[\"tconst\"] == title_basics[\"tconst_basics\"])\n",
    "\n",
    "# Фільтрація фільмів за заданими умовами\n",
    "filtered_movies = joined_df.filter((col(\"runtimeMinutes\") > 120) & (col(\"runtimeMinutes\") < 180) & (col(\"averageRating\") > 9.0))\n",
    "\n",
    "# Отримання кількості фільмів та їхніх назв\n",
    "number_of_movies = filtered_movies.count()\n",
    "movie_titles = filtered_movies.select(\"primaryTitle\")\n",
    "\n",
    "# Виведення результату\n",
    "print(f\"Кількість фільмів: {number_of_movies}\")\n",
    "print(\"Назви фільмів:\")\n",
    "movie_titles.show(truncate=False)\n",
    "\n",
    "# Запис результату у CSV файл\n",
    "#movie_titles.limit(20).coalesce(1).write.csv(\"D:/BDProject/data/top_movies_output7\", header=True)\n",
    "\n",
    "\n",
    "\n",
    "# бачимо що критерій (якість оцінки) нам не допоміг знайти та видати хороші фільми та серіали, видав якісь 3 сортні результати(індуські фільми та серіали), висновок: індуси псують статистику)  "
   ],
   "metadata": {
    "collapsed": false,
    "ExecuteTime": {
     "end_time": "2023-11-28T08:44:45.337288600Z",
     "start_time": "2023-11-28T08:44:18.966313200Z"
    }
   },
   "id": "739b4670631e516b"
  },
  {
   "cell_type": "markdown",
   "source": [],
   "metadata": {
    "collapsed": false
   },
   "id": "7ed0aeb5223bc1ac"
  },
  {
   "cell_type": "code",
   "execution_count": 33,
   "outputs": [
    {
     "name": "stdout",
     "output_type": "stream",
     "text": [
      "Кількість фільмів: 350\n",
      "Назви фільмів:\n",
      "+--------------------------------------------+\n",
      "|primaryTitle                                |\n",
      "+--------------------------------------------+\n",
      "|Star Wars: Episode III - Revenge of the Sith|\n",
      "|Saving Private Ryan                         |\n",
      "|Sin City                                    |\n",
      "|The Devil's Advocate                        |\n",
      "|Cast Away                                   |\n",
      "|Zodiac                                      |\n",
      "|Scarface                                    |\n",
      "|Casino                                      |\n",
      "|Brokeback Mountain                          |\n",
      "|Good Will Hunting                           |\n",
      "|Star Wars: Episode VI - Return of the Jedi  |\n",
      "|Love Actually                               |\n",
      "|The Holiday                                 |\n",
      "|Apollo 13                                   |\n",
      "|Harry Potter and the Half-Blood Prince      |\n",
      "|Goodfellas                                  |\n",
      "|American Beauty                             |\n",
      "|The Last Samurai                            |\n",
      "|Gladiator                                   |\n",
      "|The Mist                                    |\n",
      "+--------------------------------------------+\n"
     ]
    }
   ],
   "source": [
    "# 8) вивести фільми які по тривалості потрапляють в діапазон: 2 -3 год, та які мають суму голосів не менше 300000\n",
    "# Приєднання таблиць за допомогою tconst\n",
    "# Приєднання таблиць за допомогою tconst\n",
    "\n",
    "# Ініціалізація SparkSession\n",
    "spark = SparkSession.builder.appName(\"TopMovies\").getOrCreate()\n",
    "\n",
    "# Завантаження даних з таблиць title_ratings та title_basics\n",
    "title_ratings = spark.read.option(\"delimiter\", \"\\t\").csv(\"./data/title_ratings.tsv\", header=True, inferSchema=True)\n",
    "title_basics = spark.read.option(\"delimiter\", \"\\t\").csv(\"./data/title_basics.tsv\", header=True, inferSchema=True)\n",
    "\n",
    "# Перейменуємо стовпець у title_basics для уникнення конфлікту імен\n",
    "title_basics = title_basics.withColumnRenamed(\"tconst\", \"tconst_basics\")\n",
    "\n",
    "# Приєднання таблиць за допомогою tconst\n",
    "joined_df = title_ratings.join(title_basics, title_ratings[\"tconst\"] == title_basics[\"tconst_basics\"])\n",
    "\n",
    "# Фільтрація фільмів за заданими умовами\n",
    "filtered_movies = joined_df.filter(\n",
    "    (col(\"runtimeMinutes\") >= 120) & (col(\"runtimeMinutes\") <= 180) & (col(\"numVotes\") >= 300000)\n",
    ")\n",
    "\n",
    "# Отримання кількості фільмів та їхніх назв\n",
    "number_of_movies = filtered_movies.count()\n",
    "movie_titles = filtered_movies.select(\"primaryTitle\").limit(20)\n",
    "\n",
    "# Виведення результату\n",
    "print(f\"Кількість фільмів: {number_of_movies}\")\n",
    "print(\"Назви фільмів:\")\n",
    "movie_titles.show(truncate=False)\n",
    "\n",
    "# Запис результату у CSV файл\n",
    "#movie_titles.coalesce(1).write.csv(\"D:/BDProject/data/top_movies_output8\", header=True)\n",
    "\n",
    "\n",
    "\n",
    "# як ми бачимо порівняно з критерієм(оцінкою) критерій (голоси) працює краще для знаходження крутих фільмів, в аутпуті видає справді круті оскароносні фільми, з чого можна зробити висновок що не завжди якщо навпроти фільму стоїть висока оцінка це значить що фільм чи серіал вартий уваги, бо бачимо що нікудишній індуський серіал отримує оцінку 9.0 і вище, хоча хороший фільм який є просто більш обговорюваним в суспільстві(кількість голосів під фільмом) але має трохи нижчу оцінку, наприлад(8.2-8.7) - є очевидно кращий, тому критерій кількість голосів також кращий для означення хорошого чи поганого фільму"
   ],
   "metadata": {
    "collapsed": false,
    "ExecuteTime": {
     "end_time": "2023-11-28T08:50:42.988588400Z",
     "start_time": "2023-11-28T08:50:15.744560700Z"
    }
   },
   "id": "b1700184011ada6e"
  },
  {
   "cell_type": "markdown",
   "source": [],
   "metadata": {
    "collapsed": false
   },
   "id": "b3128178532e4233"
  },
  {
   "cell_type": "code",
   "execution_count": 25,
   "outputs": [
    {
     "name": "stdout",
     "output_type": "stream",
     "text": [
      "+----+------+\n",
      "|year|count |\n",
      "+----+------+\n",
      "|1895|114   |\n",
      "|2010|253946|\n",
      "|2021|472724|\n",
      "+----+------+\n"
     ]
    }
   ],
   "source": [
    "# 9) вивести кількість фільмів які були зняті в 1895 році, кількість фільмів які були зняті в 2010, та скільки було знято в 2021\n",
    "\n",
    "# Ініціалізація SparkSession\n",
    "spark = SparkSession.builder.appName(\"FilmCount\").getOrCreate()\n",
    "\n",
    "# Завантаження даних з таблиці title_basics\n",
    "title_basics = spark.read.option(\"delimiter\", \"\\t\").csv(\"./data/title_basics.tsv\", header=True, inferSchema=True)\n",
    "\n",
    "# Фільтрація фільмів за роками виробництва та підготовка даних для об'єднання\n",
    "films_data = [\n",
    "    Row(year=1895, count=title_basics.filter(col(\"startYear\") == 1895).count()),\n",
    "    Row(year=2010, count=title_basics.filter(col(\"startYear\") == 2010).count()),\n",
    "    Row(year=2021, count=title_basics.filter(col(\"startYear\") == 2021).count())\n",
    "]\n",
    "\n",
    "# Створення DataFrame з підготовлених даних\n",
    "films_df = spark.createDataFrame(films_data)\n",
    "\n",
    "# Запис у CSV файл (все в один файл)\n",
    "#films_df.coalesce(1).write.csv(\"./data/films_count9\", header=True)\n",
    "\n",
    "# Виведення результату\n",
    "films_df.show(truncate=False)\n",
    "\n",
    "\n",
    "\n",
    "\n",
    "# навіть попри те що фільми в кінці 19 століння тривали приблизно кілька хвилин а не як зараз по кілька годин, все ж сума фільмів того чавсу набагато менша ніж є зараз, також можна побачити як розвинувся кінематограф порівняно з попереднім десятиліттям і зараз, майже в 2 рази більше знятих фільмів станом на 2021 рік порівняно з 2010 роком"
   ],
   "metadata": {
    "collapsed": false,
    "ExecuteTime": {
     "end_time": "2023-11-28T07:55:19.926089Z",
     "start_time": "2023-11-28T07:54:43.938015900Z"
    }
   },
   "id": "9f1ab89617831feb"
  },
  {
   "cell_type": "markdown",
   "source": [],
   "metadata": {
    "collapsed": false
   },
   "id": "d75590af13d33d7"
  },
  {
   "cell_type": "markdown",
   "source": [],
   "metadata": {
    "collapsed": false
   },
   "id": "eb780ff2afb31d5f"
  },
  {
   "cell_type": "code",
   "execution_count": null,
   "outputs": [],
   "source": [
    "#Load all results of transformations to .csv files\n",
    "# Який жанр фільмів є найпопулярніший (топ5)?\n",
    "top_genres.write.csv(\"D:/BDProject/data/csv\", header= True)\n",
    "\n",
    "# Bивести топ 20 фільмів за оцінкою (мінімальна кількість оцінок 50000)\n",
    "top_rated_movies.write.csv(\"D:/BDProject/data/top_rated_movies2\", header=True)\n",
    "\n",
    "# Які найпопулярніші фільми, по кількості голосів (топ 20) та які їх оцінки?\n",
    "most_rated_movies.limit(20).write.csv(\"D:/BDProject/data/top_rated_movies3\", header=True)\n",
    "\n",
    "# За останні 50 років популярніші короткі(менше 110хв) чи довгі(більше 110хв) фільми (за кількістю голосів)?\n",
    "result_df_votes.write.csv(\"D:/BDProject/data/film_votes_results\", header=True)\n",
    "\n",
    "# Які фільми були найпопулярнішими(топ10) кожного десятиліття (починаючи з 1970 року)?\n",
    "top_movies_by_decade.select(\"decade\", \"primaryTitle\", \"numVotes\").orderBy(\"decade\", \"rank\").write.csv(\"D:/BDProject/data/top_movies_by_decade5\", header=True)\n",
    "\n",
    "# Яка сума акторів котрі прожили більше 90 років та яка загальна сума акторів за весь час?\n",
    "result_df.write.csv(\"D:/BDProject/data/actor_age_results6\", header=True)\n",
    "\n",
    "# Які фільми по тривалості потрапляють в діапазон 2-3 год та мають оцінку не більше 9.0?\n",
    "movie_titles.limit(20).coalesce(1).write.csv(\"D:/BDProject/data/top_movies_output7\", header=True)\n",
    "\n",
    "# Які фільми по тривалості потрапляють в діапазон 2-3 год та мають суму голосів не менше 300000?\n",
    "movie_titles.coalesce(1).write.csv(\"D:/BDProject/data/top_movies_output8\", header=True)\n",
    "\n",
    "# Скільки фільмів було знято в 1895, 2010 та в 2021 роках відповідно?\n",
    "\n",
    "films_df.coalesce(1).write.csv(\"./data/films_count9\", header=True)\n"
   ],
   "metadata": {
    "collapsed": false
   },
   "id": "f4d09cc2fb6393bd"
  },
  {
   "cell_type": "markdown",
   "source": [],
   "metadata": {
    "collapsed": false
   },
   "id": "1c129670d101b14f"
  }
 ],
 "metadata": {
  "kernelspec": {
   "display_name": "Python 3",
   "language": "python",
   "name": "python3"
  },
  "language_info": {
   "codemirror_mode": {
    "name": "ipython",
    "version": 2
   },
   "file_extension": ".py",
   "mimetype": "text/x-python",
   "name": "python",
   "nbconvert_exporter": "python",
   "pygments_lexer": "ipython2",
   "version": "2.7.6"
  }
 },
 "nbformat": 4,
 "nbformat_minor": 5
}
